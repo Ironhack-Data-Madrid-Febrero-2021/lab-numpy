{
 "cells": [
  {
   "cell_type": "code",
   "execution_count": 2,
   "metadata": {},
   "outputs": [],
   "source": [
    "#1. Import the NUMPY package under the name np.\n",
    "import numpy as np"
   ]
  },
  {
   "cell_type": "code",
   "execution_count": 3,
   "metadata": {},
   "outputs": [
    {
     "name": "stdout",
     "output_type": "stream",
     "text": [
      "1.18.5\n"
     ]
    }
   ],
   "source": [
    "#2. Print the NUMPY version and the configuration.\n",
    "print(np.__version__)"
   ]
  },
  {
   "cell_type": "code",
   "execution_count": 4,
   "metadata": {},
   "outputs": [
    {
     "name": "stdout",
     "output_type": "stream",
     "text": [
      "2x3x5 3-dimensional array with random values \n",
      " [[[0.29558534 0.54610918 0.1081032  0.40668759 0.53601444]\n",
      "  [0.6306955  0.62225282 0.84839801 0.27234139 0.57363057]\n",
      "  [0.6585756  0.45838852 0.72761301 0.27454526 0.38315335]]\n",
      "\n",
      " [[0.31441693 0.68907756 0.24675147 0.56988711 0.21785776]\n",
      "  [0.5552007  0.59676333 0.2914535  0.32624046 0.61563625]\n",
      "  [0.66934859 0.31986261 0.03608069 0.83043642 0.84632954]]]\n"
     ]
    }
   ],
   "source": [
    "#3. Generate a 2x3x5 3-dimensional array with random values. Assign the array to variable \"a\"\n",
    "# Challenge: there are at least three easy ways that use numpy to generate random arrays. How many ways can you find?\n",
    "#4. Print a.\n",
    "a=np.random.random((2,3,5))\n",
    "print(\"2x3x5 3-dimensional array with random values \\n\", a)"
   ]
  },
  {
   "cell_type": "code",
   "execution_count": 5,
   "metadata": {},
   "outputs": [
    {
     "name": "stdout",
     "output_type": "stream",
     "text": [
      "2x3x5 3-dimensional array with random values \n",
      " [[[8 4 9 1 3]\n",
      "  [4 7 8 9 2]\n",
      "  [5 3 6 6 1]]\n",
      "\n",
      " [[5 5 2 1 4]\n",
      "  [8 5 5 3 2]\n",
      "  [6 0 2 3 1]]]\n"
     ]
    }
   ],
   "source": [
    "a2=np.random.randint(low=0, high=10, size=(2,3,5))\n",
    "print(\"2x3x5 3-dimensional array with random values \\n\", a2)"
   ]
  },
  {
   "cell_type": "code",
   "execution_count": 6,
   "metadata": {},
   "outputs": [
    {
     "name": "stdout",
     "output_type": "stream",
     "text": [
      "2x3x5 3-dimensional array with random values \n",
      " [[[0.50888653 0.07848747 0.02760837 0.41519745 0.97264295]\n",
      "  [0.3571979  0.62409639 0.55966853 0.95776234 0.81036331]\n",
      "  [0.92428356 0.95902821 0.98732196 0.05731783 0.40212481]]\n",
      "\n",
      " [[0.30362277 0.281138   0.70675684 0.88577971 0.48761655]\n",
      "  [0.65952292 0.7684376  0.4769276  0.22354639 0.5597229 ]\n",
      "  [0.38814008 0.24445056 0.60392372 0.48159927 0.34003268]]]\n"
     ]
    }
   ],
   "source": [
    "a3=np.random.rand(2,3,5)\n",
    "print(\"2x3x5 3-dimensional array with random values \\n\",a3)"
   ]
  },
  {
   "cell_type": "code",
   "execution_count": 7,
   "metadata": {},
   "outputs": [
    {
     "name": "stdout",
     "output_type": "stream",
     "text": [
      "5x2x3 3-dimensional array with all values equaling 1: \n",
      " [[[1. 1. 1.]\n",
      "  [1. 1. 1.]]\n",
      "\n",
      " [[1. 1. 1.]\n",
      "  [1. 1. 1.]]\n",
      "\n",
      " [[1. 1. 1.]\n",
      "  [1. 1. 1.]]\n",
      "\n",
      " [[1. 1. 1.]\n",
      "  [1. 1. 1.]]\n",
      "\n",
      " [[1. 1. 1.]\n",
      "  [1. 1. 1.]]]\n"
     ]
    }
   ],
   "source": [
    "#5. Create a 5x2x3 3-dimensional array with all values equaling 1.\n",
    "#Assign the array to variable \"b\"\n",
    "#6. Print b\n",
    "b=np.ones((5,2,3))\n",
    "print(\"5x2x3 3-dimensional array with all values equaling 1: \\n\",b)"
   ]
  },
  {
   "cell_type": "code",
   "execution_count": 8,
   "metadata": {},
   "outputs": [
    {
     "name": "stdout",
     "output_type": "stream",
     "text": [
      "Are size the same?: True\n"
     ]
    }
   ],
   "source": [
    "#7. Do a and b have the same size? How do you prove that in Python code?\n",
    "print(\"Are size the same?:\",a.size==b.size)"
   ]
  },
  {
   "cell_type": "code",
   "execution_count": 9,
   "metadata": {},
   "outputs": [
    {
     "name": "stdout",
     "output_type": "stream",
     "text": [
      "Are shape the same?: False\n"
     ]
    }
   ],
   "source": [
    "print(\"Are shape the same?:\",a.shape==b.shape)"
   ]
  },
  {
   "cell_type": "code",
   "execution_count": 10,
   "metadata": {},
   "outputs": [
    {
     "name": "stdout",
     "output_type": "stream",
     "text": [
      "We aren't able to add a +b because they have differents shapes\n"
     ]
    }
   ],
   "source": [
    "#8. Are you able to add a and b? Why or why not?\n",
    "print(\"We aren't able to add a +b because they have differents shapes\")"
   ]
  },
  {
   "cell_type": "code",
   "execution_count": 11,
   "metadata": {},
   "outputs": [
    {
     "name": "stdout",
     "output_type": "stream",
     "text": [
      "b transpose [[[1. 1. 1. 1. 1.]\n",
      "  [1. 1. 1. 1. 1.]\n",
      "  [1. 1. 1. 1. 1.]]\n",
      "\n",
      " [[1. 1. 1. 1. 1.]\n",
      "  [1. 1. 1. 1. 1.]\n",
      "  [1. 1. 1. 1. 1.]]]\n"
     ]
    }
   ],
   "source": [
    "#9. Transpose b so that it has the same structure of a (i.e. become a 2x3x5 array). Assign the transposed array \n",
    "#to varialbe \"c\".\n",
    "c=b.reshape(2,3,5)\n",
    "print(\"b transpose\",c)"
   ]
  },
  {
   "cell_type": "code",
   "execution_count": 12,
   "metadata": {},
   "outputs": [
    {
     "name": "stdout",
     "output_type": "stream",
     "text": [
      "(2, 3, 5)\n",
      "(5, 2, 3)\n",
      "(2, 3, 5)\n"
     ]
    }
   ],
   "source": [
    "print(a.shape)\n",
    "print(b.shape)\n",
    "print(c.shape)"
   ]
  },
  {
   "cell_type": "code",
   "execution_count": 13,
   "metadata": {},
   "outputs": [
    {
     "name": "stdout",
     "output_type": "stream",
     "text": [
      "Because both arrays have same shape\n",
      "a+c [[[1.29558534 1.54610918 1.1081032  1.40668759 1.53601444]\n",
      "  [1.6306955  1.62225282 1.84839801 1.27234139 1.57363057]\n",
      "  [1.6585756  1.45838852 1.72761301 1.27454526 1.38315335]]\n",
      "\n",
      " [[1.31441693 1.68907756 1.24675147 1.56988711 1.21785776]\n",
      "  [1.5552007  1.59676333 1.2914535  1.32624046 1.61563625]\n",
      "  [1.66934859 1.31986261 1.03608069 1.83043642 1.84632954]]]\n"
     ]
    }
   ],
   "source": [
    "#10. Try to add a and c. Now it should work. Assign the sum to varialbe \"d\". But why does it work now?\n",
    "d=a+c\n",
    "print(\"Because both arrays have same shape\")\n",
    "print(\"a+c\",d)"
   ]
  },
  {
   "cell_type": "code",
   "execution_count": 14,
   "metadata": {},
   "outputs": [
    {
     "name": "stdout",
     "output_type": "stream",
     "text": [
      "a printed\n",
      " [[[0.29558534 0.54610918 0.1081032  0.40668759 0.53601444]\n",
      "  [0.6306955  0.62225282 0.84839801 0.27234139 0.57363057]\n",
      "  [0.6585756  0.45838852 0.72761301 0.27454526 0.38315335]]\n",
      "\n",
      " [[0.31441693 0.68907756 0.24675147 0.56988711 0.21785776]\n",
      "  [0.5552007  0.59676333 0.2914535  0.32624046 0.61563625]\n",
      "  [0.66934859 0.31986261 0.03608069 0.83043642 0.84632954]]]\n",
      "d printed\n",
      " [[[1.29558534 1.54610918 1.1081032  1.40668759 1.53601444]\n",
      "  [1.6306955  1.62225282 1.84839801 1.27234139 1.57363057]\n",
      "  [1.6585756  1.45838852 1.72761301 1.27454526 1.38315335]]\n",
      "\n",
      " [[1.31441693 1.68907756 1.24675147 1.56988711 1.21785776]\n",
      "  [1.5552007  1.59676333 1.2914535  1.32624046 1.61563625]\n",
      "  [1.66934859 1.31986261 1.03608069 1.83043642 1.84632954]]]\n",
      "Each element of d,is each element of a plus 1\n"
     ]
    }
   ],
   "source": [
    "#11. Print a and d. Notice the difference and relation of the two array in terms of the values? Explain.\n",
    "print(\"a printed\\n\",a)\n",
    "print(\"d printed\\n\",d)\n",
    "print(\"Each element of d,is each element of a plus 1\")"
   ]
  },
  {
   "cell_type": "code",
   "execution_count": 15,
   "metadata": {},
   "outputs": [
    {
     "name": "stdout",
     "output_type": "stream",
     "text": [
      "a multiply by c [[[0.29558534 0.54610918 0.1081032  0.40668759 0.53601444]\n",
      "  [0.6306955  0.62225282 0.84839801 0.27234139 0.57363057]\n",
      "  [0.6585756  0.45838852 0.72761301 0.27454526 0.38315335]]\n",
      "\n",
      " [[0.31441693 0.68907756 0.24675147 0.56988711 0.21785776]\n",
      "  [0.5552007  0.59676333 0.2914535  0.32624046 0.61563625]\n",
      "  [0.66934859 0.31986261 0.03608069 0.83043642 0.84632954]]]\n"
     ]
    }
   ],
   "source": [
    "#12. Multiply a and c. Assign the result to e.\n",
    "e=np.multiply(a,c)\n",
    "print(\"a multiply by c\",e)"
   ]
  },
  {
   "cell_type": "code",
   "execution_count": 16,
   "metadata": {},
   "outputs": [
    {
     "name": "stdout",
     "output_type": "stream",
     "text": [
      "Does e equal to a? [[[ True  True  True  True  True]\n",
      "  [ True  True  True  True  True]\n",
      "  [ True  True  True  True  True]]\n",
      "\n",
      " [[ True  True  True  True  True]\n",
      "  [ True  True  True  True  True]\n",
      "  [ True  True  True  True  True]]]\n",
      "Because c is a matrix of ones\n"
     ]
    }
   ],
   "source": [
    "#13. Does e equal to a? Why or why not?\n",
    "print(\"Does e equal to a?\",e==a)\n",
    "print(\"Because c is a matrix of ones\")"
   ]
  },
  {
   "cell_type": "code",
   "execution_count": 17,
   "metadata": {},
   "outputs": [
    {
     "name": "stdout",
     "output_type": "stream",
     "text": [
      "max d 1.8483980105509772\n",
      "min d 1.0360806927951973\n",
      "mean d 1.4822478900222957\n"
     ]
    }
   ],
   "source": [
    "#14. Identify the max, min, and mean values in d. Assign those values to variables \"d_max\", \"d_min\", and \"d_mean\"\n",
    "d_max=d.max()\n",
    "print(\"max d\",d_max)\n",
    "d_min=d.min()\n",
    "print(\"min d\",d_min)\n",
    "d_mean=d.mean()\n",
    "print(\"mean d\",d_mean)"
   ]
  },
  {
   "cell_type": "code",
   "execution_count": 18,
   "metadata": {},
   "outputs": [
    {
     "name": "stdout",
     "output_type": "stream",
     "text": [
      "[[[0.29558534 0.54610918 0.1081032  0.40668759 0.53601444]\n",
      "  [0.6306955  0.62225282 0.84839801 0.27234139 0.57363057]\n",
      "  [0.6585756  0.45838852 0.72761301 0.27454526 0.38315335]]\n",
      "\n",
      " [[0.31441693 0.68907756 0.24675147 0.56988711 0.21785776]\n",
      "  [0.5552007  0.59676333 0.2914535  0.32624046 0.61563625]\n",
      "  [0.66934859 0.31986261 0.03608069 0.83043642 0.84632954]]]\n"
     ]
    }
   ],
   "source": [
    "#15. Now we want to label the values in d. First create an empty array \"f\" with the same shape (i.e. 2x3x5)\n",
    "#as d using `np.empty`.\n",
    "f=np.empty((2,3,5))\n",
    "print(f)"
   ]
  },
  {
   "cell_type": "code",
   "execution_count": 19,
   "metadata": {},
   "outputs": [],
   "source": [
    "\n",
    "\"\"\"\n",
    "#16. Populate the values in f. For each value in d, if it's larger than d_min but smaller than d_mean, \n",
    "assign 25 to the corresponding value in f.\n",
    "If a value in d is larger than d_mean but smaller than d_max, assign 75 to the corresponding value in f.\n",
    "If a value equals to d_mean, assign 50 to the corresponding value in f.\n",
    "Assign 0 to the corresponding value(s) in f for d_min in d.\n",
    "Assign 100 to the corresponding value(s) in f for d_max in d.\n",
    "In the end, f should have only the following values: 0, 25, 50, 75, and 100.\n",
    "Note: you don't have to use Numpy in this question.\n",
    "\"\"\"\n",
    "for i in range(d.shape[0]):\n",
    "    for j in range(d.shape[1]):\n",
    "        for k in range(d.shape[2]):\n",
    "            if d[i,j,k] > d_mean and d[i,j,k]< d_max:\n",
    "                f[i,j,k]=75\n",
    "            if d[i,j,k] == d_mean:\n",
    "                f[i,j,k]=50\n",
    "            if d[i,j,k] > d_min and d[i,j,k]< d_mean:\n",
    "                f[i,j,k]=25\n",
    "            if d[i,j,k] == d_max:\n",
    "                f[i,j,k]=100\n",
    "            if d[i,j,k] == d_min:\n",
    "                f[i,j,k]=0\n",
    "  "
   ]
  },
  {
   "cell_type": "code",
   "execution_count": 20,
   "metadata": {},
   "outputs": [
    {
     "name": "stdout",
     "output_type": "stream",
     "text": [
      "This is d\n",
      "[[[1.29558534 1.54610918 1.1081032  1.40668759 1.53601444]\n",
      "  [1.6306955  1.62225282 1.84839801 1.27234139 1.57363057]\n",
      "  [1.6585756  1.45838852 1.72761301 1.27454526 1.38315335]]\n",
      "\n",
      " [[1.31441693 1.68907756 1.24675147 1.56988711 1.21785776]\n",
      "  [1.5552007  1.59676333 1.2914535  1.32624046 1.61563625]\n",
      "  [1.66934859 1.31986261 1.03608069 1.83043642 1.84632954]]]\n",
      "\n",
      " This is f\n",
      "[[[ 25.  75.  25.  25.  75.]\n",
      "  [ 75.  75. 100.  25.  75.]\n",
      "  [ 75.  25.  75.  25.  25.]]\n",
      "\n",
      " [[ 25.  75.  25.  75.  25.]\n",
      "  [ 75.  75.  25.  25.  75.]\n",
      "  [ 75.  25.   0.  75.  75.]]]\n"
     ]
    }
   ],
   "source": [
    "\"\"\"\n",
    "#17. Print d and f. Do you have your expected f?\n",
    "For instance, if your d is:\n",
    "array([[[1.85836099, 1.67064465, 1.62576044, 1.40243961, 1.88454931],\n",
    "        [1.75354326, 1.69403643, 1.36729252, 1.61415071, 1.12104981],\n",
    "        [1.72201435, 1.1862918 , 1.87078449, 1.7726778 , 1.88180042]],\n",
    "\n",
    "       [[1.44747908, 1.31673383, 1.02000951, 1.52218947, 1.97066381],\n",
    "        [1.79129243, 1.74983003, 1.96028037, 1.85166831, 1.65450881],\n",
    "        [1.18068344, 1.9587381 , 1.00656599, 1.93402165, 1.73514584]]])\n",
    "\n",
    "Your f should be:\n",
    "array([[[ 75.,  75.,  75.,  25.,  75.],\n",
    "        [ 75.,  75.,  25.,  25.,  25.],\n",
    "        [ 75.,  25.,  75.,  75.,  75.]],\n",
    "\n",
    "       [[ 25.,  25.,  25.,  25., 100.],\n",
    "        [ 75.,  75.,  75.,  75.,  75.],\n",
    "        [ 25.,  75.,   0.,  75.,  75.]]])\n",
    "\"\"\"\n",
    "print(\"This is d\")\n",
    "print(d)\n",
    "print(\"\\n This is f\")\n",
    "print(f)"
   ]
  },
  {
   "cell_type": "code",
   "execution_count": 30,
   "metadata": {},
   "outputs": [],
   "source": [
    "\"\"\"\n",
    "#18. Bonus question: instead of using numbers (i.e. 0, 25, 50, 75, and 100), how to use string values \n",
    "(\"A\", \"B\", \"C\", \"D\", and \"E\") to label the array elements? You are expecting the result to be:\n",
    "array([[[ 'D',  'D',  'D',  'B',  'D'],\n",
    "        [ 'D',  'D',  'B',  'B',  'B'],\n",
    "        [ 'D',  'B',  'D',  'D',  'D']],\n",
    "\n",
    "       [[ 'B',  'B',  'B',  'B',  'E'],\n",
    "        [ 'D',  'D',  'D',  'D',  'D'],\n",
    "        [ 'B',  'D',   'A',  'D', 'D']]])\n",
    "Again, you don't need Numpy in this question.\n",
    "\"\"\"\n",
    "\"\"\"\"\"\"\n",
    "#En Python las cadenas de texto son arrays con caracteres alfanuméricos,\n",
    "#por lo que no es necesario disponer de funciones especificas. \n",
    "#El tratamiento se pude realizar de la misma manera que cualquier otro tipo de arrays.\n",
    "\n",
    "\"\"\"\"\"\"\n",
    "string_array=np.empty(f.shape, dtype=np.str_)"
   ]
  },
  {
   "cell_type": "code",
   "execution_count": 31,
   "metadata": {},
   "outputs": [
    {
     "data": {
      "text/plain": [
       "(2, 3, 5)"
      ]
     },
     "execution_count": 31,
     "metadata": {},
     "output_type": "execute_result"
    }
   ],
   "source": [
    "f.shape"
   ]
  },
  {
   "cell_type": "code",
   "execution_count": 32,
   "metadata": {},
   "outputs": [
    {
     "name": "stdout",
     "output_type": "stream",
     "text": [
      "[[['B' 'D' 'B' 'B' 'D']\n",
      "  ['D' 'D' 'E' 'B' 'D']\n",
      "  ['D' 'B' 'D' 'B' 'B']]\n",
      "\n",
      " [['B' 'D' 'B' 'D' 'B']\n",
      "  ['D' 'D' 'B' 'B' 'D']\n",
      "  ['D' 'B' 'A' 'D' 'D']]]\n"
     ]
    }
   ],
   "source": [
    "for i in range(f.shape[0]):\n",
    "    for j in range(f.shape[1]):\n",
    "        for k in range(f.shape[2]):\n",
    "            if f[i,j,k]==0:\n",
    "                string_array[i,j,k]=\"A\"\n",
    "            elif f[i,j,k]==25:\n",
    "                string_array[i,j,k]=\"B\"\n",
    "            elif f[i,j,k]==50:\n",
    "                string_array[i,j,k]=\"C\"\n",
    "            elif f[i,j,k]==75:\n",
    "                string_array[i,j,k]=\"D\"\n",
    "            elif f[i,j,k]==100:\n",
    "                string_array[i,j,k]=\"E\"\n",
    "print(string_array)                "
   ]
  }
 ],
 "metadata": {
  "kernelspec": {
   "display_name": "Python 3",
   "language": "python",
   "name": "python3"
  },
  "language_info": {
   "codemirror_mode": {
    "name": "ipython",
    "version": 3
   },
   "file_extension": ".py",
   "mimetype": "text/x-python",
   "name": "python",
   "nbconvert_exporter": "python",
   "pygments_lexer": "ipython3",
   "version": "3.8.3"
  }
 },
 "nbformat": 4,
 "nbformat_minor": 4
}
